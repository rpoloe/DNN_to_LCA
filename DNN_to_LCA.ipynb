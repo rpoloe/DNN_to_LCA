{
  "nbformat": 4,
  "nbformat_minor": 0,
  "metadata": {
    "colab": {
      "name": "DNN_to_LCA.ipynb",
      "provenance": [],
      "collapsed_sections": []
    },
    "kernelspec": {
      "display_name": "Python 3",
      "name": "python3"
    },
    "language_info": {
      "name": "python"
    }
  },
  "cells": [
    {
      "cell_type": "code",
      "metadata": {
        "id": "eClco4oFvUF6"
      },
      "source": [
        "%%capture\n",
        "import math\n",
        "import statistics\n",
        "import numpy as np\n",
        "import pandas as pd\n",
        "import tensorflow as tf\n",
        "from tensorflow import keras\n",
        "from tensorflow.keras import layers\n",
        "!pip install tensorflowjs\n",
        "!pip install git+https://github.com/tensorflow/docs\n",
        "import tensorflow_docs as tfdocs\n",
        "import tensorflow_docs.modeling"
      ],
      "execution_count": 1,
      "outputs": []
    },
    {
      "cell_type": "code",
      "metadata": {
        "colab": {
          "resources": {
            "http://localhost:8080/nbextensions/google.colab/files.js": {
              "data": "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",
              "ok": true,
              "headers": [
                [
                  "content-type",
                  "application/javascript"
                ]
              ],
              "status": 200,
              "status_text": ""
            }
          },
          "base_uri": "https://localhost:8080/",
          "height": 72
        },
        "id": "i8tBORYewjct",
        "outputId": "2d46c73a-0daf-4074-fea3-56626b017d99"
      },
      "source": [
        "from google.colab import files\n",
        "files.upload()\n",
        "data = pd.read_csv(\"LCA_data.csv\", sep=\";\")\n",
        "dataset = data.values\n",
        "input_data = dataset[:,0:6]\n",
        "output_data = dataset[: ,6:16]"
      ],
      "execution_count": 2,
      "outputs": [
        {
          "output_type": "display_data",
          "data": {
            "text/html": [
              "\n",
              "     <input type=\"file\" id=\"files-275d75fa-cd20-4e10-9e34-a898e3aa0406\" name=\"files[]\" multiple disabled\n",
              "        style=\"border:none\" />\n",
              "     <output id=\"result-275d75fa-cd20-4e10-9e34-a898e3aa0406\">\n",
              "      Upload widget is only available when the cell has been executed in the\n",
              "      current browser session. Please rerun this cell to enable.\n",
              "      </output>\n",
              "      <script src=\"/nbextensions/google.colab/files.js\"></script> "
            ],
            "text/plain": [
              "<IPython.core.display.HTML object>"
            ]
          },
          "metadata": {}
        },
        {
          "output_type": "stream",
          "name": "stdout",
          "text": [
            "Saving LCA_data.csv to LCA_data.csv\n"
          ]
        }
      ]
    },
    {
      "cell_type": "code",
      "metadata": {
        "colab": {
          "base_uri": "https://localhost:8080/"
        },
        "id": "Qe0tRt_20mn8",
        "outputId": "cd365caa-be67-4207-f48c-286302c6c7cc"
      },
      "source": [
        "def build_model():\n",
        "  model = keras.Sequential([\n",
        "    layers.Dense(16, activation=\"relu\", input_shape=[6]),\n",
        "    layers.Dense(5),\n",
        "    layers.Dense(10)])\n",
        "  optimizer = tf.keras.optimizers.RMSprop(0.001)\n",
        "  model.compile(loss=\"mse\", optimizer=optimizer, metrics=[\"mae\", \"mse\", \"accuracy\"])\n",
        "  return model\n",
        "model = build_model()\n",
        "history = model.fit(input_data, output_data, validation_split=0.2, epochs=1001, verbose=0, callbacks=[tfdocs.modeling.EpochDots()])\n",
        "model.save(\"complete_model_saved.h5\")\n",
        "!mkdir output_folder\n",
        "!tensorflowjs_converter --input_format keras complete_model_saved.h5 output_folder\n",
        "!ls output_folder"
      ],
      "execution_count": 3,
      "outputs": [
        {
          "output_type": "stream",
          "name": "stdout",
          "text": [
            "\n",
            "Epoch: 0, accuracy:0.0000,  loss:267517552.0000,  mae:10676.3281,  mse:267517552.0000,  val_accuracy:0.0000,  val_loss:279094752.0000,  val_mae:10799.3242,  val_mse:279094752.0000,  \n",
            "....................................................................................................\n",
            "Epoch: 100, accuracy:1.0000,  loss:706910.8125,  mae:476.1949,  mse:706910.8125,  val_accuracy:1.0000,  val_loss:1276730.0000,  val_mae:638.4736,  val_mse:1276730.0000,  \n",
            "....................................................................................................\n",
            "Epoch: 200, accuracy:1.0000,  loss:421089.5000,  mae:361.4267,  mse:421089.5000,  val_accuracy:1.0000,  val_loss:773185.7500,  val_mae:490.1812,  val_mse:773185.7500,  \n",
            "....................................................................................................\n",
            "Epoch: 300, accuracy:1.0000,  loss:170794.2969,  mae:229.3506,  mse:170794.2969,  val_accuracy:1.0000,  val_loss:473535.3125,  val_mae:375.6222,  val_mse:473535.3125,  \n",
            "....................................................................................................\n",
            "Epoch: 400, accuracy:1.0000,  loss:11844.7471,  mae:61.3133,  mse:11844.7471,  val_accuracy:1.0000,  val_loss:85216.6172,  val_mae:122.5132,  val_mse:85216.6172,  \n",
            "....................................................................................................\n",
            "Epoch: 500, accuracy:1.0000,  loss:3749.0469,  mae:35.1729,  mse:3749.0469,  val_accuracy:1.0000,  val_loss:40074.9297,  val_mae:68.4582,  val_mse:40074.9297,  \n",
            "....................................................................................................\n",
            "Epoch: 600, accuracy:1.0000,  loss:3809.9089,  mae:34.8794,  mse:3809.9089,  val_accuracy:1.0000,  val_loss:39033.9531,  val_mae:71.2000,  val_mse:39033.9531,  \n",
            "....................................................................................................\n",
            "Epoch: 700, accuracy:1.0000,  loss:3658.4683,  mae:33.6716,  mse:3658.4683,  val_accuracy:1.0000,  val_loss:35312.1406,  val_mae:64.6607,  val_mse:35312.1406,  \n",
            "....................................................................................................\n",
            "Epoch: 800, accuracy:1.0000,  loss:3689.6606,  mae:33.7574,  mse:3689.6606,  val_accuracy:1.0000,  val_loss:43209.6836,  val_mae:88.8441,  val_mse:43209.6836,  \n",
            "....................................................................................................\n",
            "Epoch: 900, accuracy:1.0000,  loss:3579.0940,  mae:33.2649,  mse:3579.0940,  val_accuracy:1.0000,  val_loss:27677.0840,  val_mae:57.2568,  val_mse:27677.0840,  \n",
            "....................................................................................................\n",
            "Epoch: 1000, accuracy:1.0000,  loss:3570.0994,  mae:33.3910,  mse:3570.0994,  val_accuracy:1.0000,  val_loss:48527.3750,  val_mae:103.0847,  val_mse:48527.3750,  \n",
            ".group1-shard1of1.bin  model.json\n"
          ]
        }
      ]
    },
    {
      "cell_type": "code",
      "metadata": {
        "id": "_z5A5AkrZVlZ",
        "colab": {
          "base_uri": "https://localhost:8080/"
        },
        "outputId": "5f4ef63c-69a0-47ad-bc4e-4fbc77020ff3"
      },
      "source": [
        "Asphalt = float(input(\"optimal asphalt binder content determined for the WMA without RCA, %: \"))\n",
        "Additive = float(input(\"chemical additive content by asphalt binder weight, %: \"))\n",
        "TR = float(input(\"temperature reduction achieved by the chemical additive implemented, °C: \"))\n",
        "HD = float(input(\"hauling distance of the RCA, km: \"))\n",
        "WC = float(input(\"average water content in aggregates (natural and RCA), %: \"))"
      ],
      "execution_count": 4,
      "outputs": [
        {
          "name": "stdout",
          "output_type": "stream",
          "text": [
            "optimal asphalt binder content determined for the WMA without RCA, %: 4.4\n",
            "chemical additive content by asphalt binder weight, %: 0.3\n",
            "temperature reduction achieved by the chemical additive implemented, °C: 40\n",
            "hauling distance of the RCA, km: 0\n",
            "average water content in aggregates (natural and RCA), %: 3\n"
          ]
        }
      ]
    },
    {
      "cell_type": "code",
      "metadata": {
        "id": "nbxvAZc1Vbzt"
      },
      "source": [
        "matrix_size = np.zeros((46, 10))\n",
        "matrix = np.zeros_like(matrix_size, dtype=float)\n",
        "RCA = 0\n",
        "while RCA <= 45:\n",
        "  matrix[RCA, :] = model.predict(np.array([[RCA, Asphalt, Additive, TR, HD, WC]]))\n",
        "  RCA = RCA + 1\n",
        "vector_results = np.arange(0, 10, 1)\n",
        "z = 2.58 # critical z-value with confidence level of 99%"
      ],
      "execution_count": 5,
      "outputs": []
    },
    {
      "cell_type": "code",
      "metadata": {
        "id": "CDFKCExW1-zD"
      },
      "source": [
        "for i in range (0, 10):\n",
        "  min, optimal = np.amin(matrix[:, i]), 0\n",
        "  while (optimal<45):\n",
        "    if (matrix[:, i][optimal] == min):\n",
        "      break\n",
        "    else:\n",
        "      optimal = optimal + 1\n",
        "  dev_stan = statistics.stdev(matrix[:, i])\n",
        "  upper_limit = matrix[:, i][optimal] + (z*dev_stan/math.sqrt(46))\n",
        "  while (optimal<45):\n",
        "    lower_limit = matrix[:, i][optimal+1] - (z*dev_stan/math.sqrt(46))\n",
        "    if (upper_limit > lower_limit):\n",
        "      optimal = optimal + 1\n",
        "    else:\n",
        "      break\n",
        "  vector_results[i] = optimal"
      ],
      "execution_count": 6,
      "outputs": []
    },
    {
      "cell_type": "code",
      "metadata": {
        "id": "V5vvlgEhQdib",
        "colab": {
          "base_uri": "https://localhost:8080/"
        },
        "outputId": "3b2d019e-4fd9-475e-8f65-d2fd93ed0c88"
      },
      "source": [
        "optimal_RCA = np.amin(vector_results)\n",
        "result_with_optimal_RCA = model.predict(np.array([[optimal_RCA, Asphalt, Additive, TR, HD, WC]]))\n",
        "result_with_optimal_RCA = result_with_optimal_RCA[0]\n",
        "print(\"From an environmental approach, the maximum coarse aggregate content that can be replaced by RCA is: \" + str(optimal_RCA) + \"%\")\n",
        "print(\"The production of 1 ton of WMA (with the optimal coarse RCA content) generates: \")\n",
        "print(\"Ozone depletion: \" + str(int(result_with_optimal_RCA[0])) + \" mg CFC-11eq\")\n",
        "print(\"Global warming: \" + str(int(result_with_optimal_RCA[1])) + \" kg CO2eq\")\n",
        "print(\"Smog: \" + str(int(result_with_optimal_RCA[2])) + \" kg O3eq\")\n",
        "print(\"Acidification: \" + str(int(result_with_optimal_RCA[3])) + \" kg SO2eq\")\n",
        "print(\"Eutrophication: \" + str(int(result_with_optimal_RCA[4])) + \" g Neq\")\n",
        "print(\"Carcinogenic: \" + str(int(result_with_optimal_RCA[5])) + \" E-6 CTUh\")\n",
        "print(\"Non-carcinogenic: \" + str(int(result_with_optimal_RCA[6])) + \" E-6 CTUh\")\n",
        "print(\"Respiratory effects: \" + str(int(result_with_optimal_RCA[7])) + \" g PM2.5eq\")\n",
        "print(\"Ecotoxicity: \" + str(int(result_with_optimal_RCA[8])) + \" CTUe\")\n",
        "print(\"Fossil fuel depletion: \" + str(int(result_with_optimal_RCA[9])) + \" MJ surplus\")"
      ],
      "execution_count": 7,
      "outputs": [
        {
          "output_type": "stream",
          "name": "stdout",
          "text": [
            "From an environmental approach, the maximum coarse aggregate content that can be replaced by RCA is: 10%\n",
            "The production of 1 ton of WMA (with the optimal coarse RCA content) generates: \n",
            "Ozone depletion: 3862 mg CFC-11eq\n",
            "Global warming: 18342 kg CO2eq\n",
            "Smog: 754 kg O3eq\n",
            "Acidification: 120 kg SO2eq\n",
            "Eutrophication: 9949 g Neq\n",
            "Carcinogenic: 136 E-6 CTUh\n",
            "Non-carcinogenic: 962 E-6 CTUh\n",
            "Respiratory effects: 8826 g PM2.5eq\n",
            "Ecotoxicity: 28777 CTUe\n",
            "Fossil fuel depletion: 34733 MJ surplus\n"
          ]
        }
      ]
    }
  ]
}